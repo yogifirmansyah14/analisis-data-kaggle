{
 "cells": [
  {
   "cell_type": "markdown",
   "id": "ed507ed6-6e07-4178-8137-84b05fa466ce",
   "metadata": {},
   "source": [
    "Tugas UTS Analisis Big Data\n",
    "\n",
    "Nama Kelompok 2 :\n",
    "- Diana Novita Sari\n",
    "- Nurma Sari Laras Aji\n",
    "- Moch Yogi Firmansyah"
   ]
  },
  {
   "cell_type": "markdown",
   "id": "b919eb22-2efb-4e21-9dd4-58c43394eb1c",
   "metadata": {},
   "source": [
    "Disini Kelompok Kami Melakukan Exploratory Data Analysis (EDA) Pada Dataset IMDb Indonesian Movies yang bersumber dari\n",
    "Kaggle.com  \n",
    "\n",
    "Exploratory Data Analysis (EDA) adalah sebuah proses kritis dalam melakukan investigasi awal pada data dengan tujuan\n",
    "menemukan pola, anomali, menguji hipotesis dan dapat memeriksa asumsi dengan bantuan statistik ringkasan kemudian\n",
    "representasi grafis (visualisasi)."
   ]
  },
  {
   "cell_type": "code",
   "execution_count": 1,
   "id": "4344db29-e702-4df5-99ee-f0f801c253d4",
   "metadata": {},
   "outputs": [],
   "source": [
    "import matplotlib.pyplot as plt\n",
    "%matplotlib inline\n",
    "\n",
    "import seaborn as sns\n",
    "sns.set_style(\"dark\")\n",
    "\n",
    "import numpy as np\n",
    "import pandas as pd"
   ]
  },
  {
   "cell_type": "code",
   "execution_count": 2,
   "id": "df63824c-96e5-4dcf-b362-6646edc1e815",
   "metadata": {},
   "outputs": [],
   "source": [
    "from warnings import filterwarnings\n",
    "filterwarnings(action='ignore', category=DeprecationWarning, message='`np.int` is a deprecated alias')"
   ]
  },
  {
   "cell_type": "markdown",
   "id": "348505a3-b7dc-40fa-a69e-793e85dd5548",
   "metadata": {},
   "source": [
    "- Import Data CSV"
   ]
  },
  {
   "cell_type": "code",
   "execution_count": 3,
   "id": "ffc2a02c-199e-4dc0-96ce-25e4681db438",
   "metadata": {},
   "outputs": [
    {
     "name": "stdout",
     "output_type": "stream",
     "text": [
      "1272 rows & 11 columns\n"
     ]
    },
    {
     "data": {
      "text/html": [
       "<div>\n",
       "<style scoped>\n",
       "    .dataframe tbody tr th:only-of-type {\n",
       "        vertical-align: middle;\n",
       "    }\n",
       "\n",
       "    .dataframe tbody tr th {\n",
       "        vertical-align: top;\n",
       "    }\n",
       "\n",
       "    .dataframe thead th {\n",
       "        text-align: right;\n",
       "    }\n",
       "</style>\n",
       "<table border=\"1\" class=\"dataframe\">\n",
       "  <thead>\n",
       "    <tr style=\"text-align: right;\">\n",
       "      <th></th>\n",
       "      <th>title</th>\n",
       "      <th>year</th>\n",
       "      <th>description</th>\n",
       "      <th>genre</th>\n",
       "      <th>rating</th>\n",
       "      <th>users_rating</th>\n",
       "      <th>votes</th>\n",
       "      <th>languages</th>\n",
       "      <th>directors</th>\n",
       "      <th>actors</th>\n",
       "      <th>runtime</th>\n",
       "    </tr>\n",
       "  </thead>\n",
       "  <tbody>\n",
       "    <tr>\n",
       "      <th>0</th>\n",
       "      <td>#FriendButMarried 2</td>\n",
       "      <td>2020</td>\n",
       "      <td>Ayudia (Mawar De Jongh) is not satisfied enoug...</td>\n",
       "      <td>Biography</td>\n",
       "      <td>13+</td>\n",
       "      <td>6.5</td>\n",
       "      <td>120</td>\n",
       "      <td>Indonesian</td>\n",
       "      <td>Rako Prijanto</td>\n",
       "      <td>['Adipati Dolken', 'Mawar Eva de Jongh', 'Vonn...</td>\n",
       "      <td>100 min</td>\n",
       "    </tr>\n",
       "    <tr>\n",
       "      <th>1</th>\n",
       "      <td>4 Mantan</td>\n",
       "      <td>2020</td>\n",
       "      <td>Sara, Airin, Rachel, and Amara were accidental...</td>\n",
       "      <td>Thriller</td>\n",
       "      <td>17+</td>\n",
       "      <td>6.4</td>\n",
       "      <td>8</td>\n",
       "      <td>Indonesian</td>\n",
       "      <td>Hanny Saputra</td>\n",
       "      <td>['Ranty Maria', 'Jeff Smith', 'Melanie Berentz...</td>\n",
       "      <td>80 min</td>\n",
       "    </tr>\n",
       "    <tr>\n",
       "      <th>2</th>\n",
       "      <td>Aku Tahu Kapan Kamu Mati</td>\n",
       "      <td>2020</td>\n",
       "      <td>After apparent death, Siena is able to see sig...</td>\n",
       "      <td>Horror</td>\n",
       "      <td>13+</td>\n",
       "      <td>5.4</td>\n",
       "      <td>17</td>\n",
       "      <td>Indonesian</td>\n",
       "      <td>Hadrah Daeng Ratu</td>\n",
       "      <td>['Natasha Wilona', 'Ria Ricis', 'Al Ghazali', ...</td>\n",
       "      <td>92 min</td>\n",
       "    </tr>\n",
       "    <tr>\n",
       "      <th>3</th>\n",
       "      <td>Anak Garuda</td>\n",
       "      <td>2020</td>\n",
       "      <td>Good Morning Indonesia, a school for poor orph...</td>\n",
       "      <td>Adventure</td>\n",
       "      <td>13+</td>\n",
       "      <td>9.1</td>\n",
       "      <td>27</td>\n",
       "      <td>Indonesian</td>\n",
       "      <td>Faozan Rizal</td>\n",
       "      <td>['Tissa Biani Azzahra', 'Violla Georgie', 'Aji...</td>\n",
       "      <td>129 min</td>\n",
       "    </tr>\n",
       "    <tr>\n",
       "      <th>4</th>\n",
       "      <td>Dignitate</td>\n",
       "      <td>2020</td>\n",
       "      <td>Alfi (Al Ghazali) meets Alana (Caitlin Halderm...</td>\n",
       "      <td>Drama</td>\n",
       "      <td>17+</td>\n",
       "      <td>7.6</td>\n",
       "      <td>33</td>\n",
       "      <td>Indonesian</td>\n",
       "      <td>Fajar Nugros</td>\n",
       "      <td>['Al Ghazali', 'Caitlin Halderman', 'Giorgino ...</td>\n",
       "      <td>109 min</td>\n",
       "    </tr>\n",
       "  </tbody>\n",
       "</table>\n",
       "</div>"
      ],
      "text/plain": [
       "                      title  year  \\\n",
       "0       #FriendButMarried 2  2020   \n",
       "1                  4 Mantan  2020   \n",
       "2  Aku Tahu Kapan Kamu Mati  2020   \n",
       "3               Anak Garuda  2020   \n",
       "4                 Dignitate  2020   \n",
       "\n",
       "                                         description      genre rating  \\\n",
       "0  Ayudia (Mawar De Jongh) is not satisfied enoug...  Biography    13+   \n",
       "1  Sara, Airin, Rachel, and Amara were accidental...   Thriller    17+   \n",
       "2  After apparent death, Siena is able to see sig...     Horror    13+   \n",
       "3  Good Morning Indonesia, a school for poor orph...  Adventure    13+   \n",
       "4  Alfi (Al Ghazali) meets Alana (Caitlin Halderm...      Drama    17+   \n",
       "\n",
       "   users_rating votes   languages          directors  \\\n",
       "0           6.5   120  Indonesian      Rako Prijanto   \n",
       "1           6.4     8  Indonesian      Hanny Saputra   \n",
       "2           5.4    17  Indonesian  Hadrah Daeng Ratu   \n",
       "3           9.1    27  Indonesian       Faozan Rizal   \n",
       "4           7.6    33  Indonesian       Fajar Nugros   \n",
       "\n",
       "                                              actors  runtime  \n",
       "0  ['Adipati Dolken', 'Mawar Eva de Jongh', 'Vonn...  100 min  \n",
       "1  ['Ranty Maria', 'Jeff Smith', 'Melanie Berentz...   80 min  \n",
       "2  ['Natasha Wilona', 'Ria Ricis', 'Al Ghazali', ...   92 min  \n",
       "3  ['Tissa Biani Azzahra', 'Violla Georgie', 'Aji...  129 min  \n",
       "4  ['Al Ghazali', 'Caitlin Halderman', 'Giorgino ...  109 min  "
      ]
     },
     "execution_count": 3,
     "metadata": {},
     "output_type": "execute_result"
    }
   ],
   "source": [
    "# Import Data CSV\n",
    "df = pd.read_csv('indonesian_movies.csv')\n",
    "nRow, nCol = df.shape\n",
    "print(f'{nRow} rows & {nCol} columns')\n",
    "df.head()"
   ]
  },
  {
   "cell_type": "markdown",
   "id": "4ee9e5cf-ddb9-4af5-9ba4-513d3b30b93b",
   "metadata": {},
   "source": [
    "- Method info() mencetak informasi tentang DataFrame"
   ]
  },
  {
   "cell_type": "code",
   "execution_count": 4,
   "id": "b8f75e48-30d5-4a71-a9ee-e3bc79e14a3a",
   "metadata": {},
   "outputs": [
    {
     "name": "stdout",
     "output_type": "stream",
     "text": [
      "<class 'pandas.core.frame.DataFrame'>\n",
      "RangeIndex: 1272 entries, 0 to 1271\n",
      "Data columns (total 11 columns):\n",
      " #   Column        Non-Null Count  Dtype  \n",
      "---  ------        --------------  -----  \n",
      " 0   title         1272 non-null   object \n",
      " 1   year          1272 non-null   int64  \n",
      " 2   description   840 non-null    object \n",
      " 3   genre         1236 non-null   object \n",
      " 4   rating        376 non-null    object \n",
      " 5   users_rating  1272 non-null   float64\n",
      " 6   votes         1272 non-null   object \n",
      " 7   languages     1272 non-null   object \n",
      " 8   directors     1265 non-null   object \n",
      " 9   actors        1272 non-null   object \n",
      " 10  runtime       869 non-null    object \n",
      "dtypes: float64(1), int64(1), object(9)\n",
      "memory usage: 109.4+ KB\n"
     ]
    }
   ],
   "source": [
    "df.info()"
   ]
  },
  {
   "cell_type": "markdown",
   "id": "04f0a776-d5f3-4e6c-968d-84b310285ec6",
   "metadata": {},
   "source": [
    "- Method description() mengembalikan deskripsi data dalam DataFrame"
   ]
  },
  {
   "cell_type": "code",
   "execution_count": 5,
   "id": "b985c70b-c86a-4a15-94b4-6045c1252075",
   "metadata": {},
   "outputs": [
    {
     "data": {
      "text/html": [
       "<div>\n",
       "<style scoped>\n",
       "    .dataframe tbody tr th:only-of-type {\n",
       "        vertical-align: middle;\n",
       "    }\n",
       "\n",
       "    .dataframe tbody tr th {\n",
       "        vertical-align: top;\n",
       "    }\n",
       "\n",
       "    .dataframe thead th {\n",
       "        text-align: right;\n",
       "    }\n",
       "</style>\n",
       "<table border=\"1\" class=\"dataframe\">\n",
       "  <thead>\n",
       "    <tr style=\"text-align: right;\">\n",
       "      <th></th>\n",
       "      <th>title</th>\n",
       "      <th>year</th>\n",
       "      <th>description</th>\n",
       "      <th>genre</th>\n",
       "      <th>rating</th>\n",
       "      <th>users_rating</th>\n",
       "      <th>votes</th>\n",
       "      <th>languages</th>\n",
       "      <th>directors</th>\n",
       "      <th>actors</th>\n",
       "      <th>runtime</th>\n",
       "    </tr>\n",
       "  </thead>\n",
       "  <tbody>\n",
       "    <tr>\n",
       "      <th>count</th>\n",
       "      <td>1272</td>\n",
       "      <td>1272.000000</td>\n",
       "      <td>840</td>\n",
       "      <td>1236</td>\n",
       "      <td>376</td>\n",
       "      <td>1272.000000</td>\n",
       "      <td>1272</td>\n",
       "      <td>1272</td>\n",
       "      <td>1265</td>\n",
       "      <td>1272</td>\n",
       "      <td>869</td>\n",
       "    </tr>\n",
       "    <tr>\n",
       "      <th>unique</th>\n",
       "      <td>1262</td>\n",
       "      <td>NaN</td>\n",
       "      <td>840</td>\n",
       "      <td>15</td>\n",
       "      <td>11</td>\n",
       "      <td>NaN</td>\n",
       "      <td>312</td>\n",
       "      <td>8</td>\n",
       "      <td>377</td>\n",
       "      <td>1266</td>\n",
       "      <td>85</td>\n",
       "    </tr>\n",
       "    <tr>\n",
       "      <th>top</th>\n",
       "      <td>Jomblo</td>\n",
       "      <td>NaN</td>\n",
       "      <td>Ayudia (Mawar De Jongh) is not satisfied enoug...</td>\n",
       "      <td>Drama</td>\n",
       "      <td>13+</td>\n",
       "      <td>NaN</td>\n",
       "      <td>6</td>\n",
       "      <td>Indonesian</td>\n",
       "      <td>Nayato Fio Nuala</td>\n",
       "      <td>[nan, nan, nan, nan, nan, nan, nan, nan, nan, ...</td>\n",
       "      <td>90 min</td>\n",
       "    </tr>\n",
       "    <tr>\n",
       "      <th>freq</th>\n",
       "      <td>2</td>\n",
       "      <td>NaN</td>\n",
       "      <td>1</td>\n",
       "      <td>456</td>\n",
       "      <td>161</td>\n",
       "      <td>NaN</td>\n",
       "      <td>58</td>\n",
       "      <td>1241</td>\n",
       "      <td>61</td>\n",
       "      <td>4</td>\n",
       "      <td>109</td>\n",
       "    </tr>\n",
       "    <tr>\n",
       "      <th>mean</th>\n",
       "      <td>NaN</td>\n",
       "      <td>2007.023585</td>\n",
       "      <td>NaN</td>\n",
       "      <td>NaN</td>\n",
       "      <td>NaN</td>\n",
       "      <td>6.144418</td>\n",
       "      <td>NaN</td>\n",
       "      <td>NaN</td>\n",
       "      <td>NaN</td>\n",
       "      <td>NaN</td>\n",
       "      <td>NaN</td>\n",
       "    </tr>\n",
       "    <tr>\n",
       "      <th>std</th>\n",
       "      <td>NaN</td>\n",
       "      <td>12.968560</td>\n",
       "      <td>NaN</td>\n",
       "      <td>NaN</td>\n",
       "      <td>NaN</td>\n",
       "      <td>1.389315</td>\n",
       "      <td>NaN</td>\n",
       "      <td>NaN</td>\n",
       "      <td>NaN</td>\n",
       "      <td>NaN</td>\n",
       "      <td>NaN</td>\n",
       "    </tr>\n",
       "    <tr>\n",
       "      <th>min</th>\n",
       "      <td>NaN</td>\n",
       "      <td>1926.000000</td>\n",
       "      <td>NaN</td>\n",
       "      <td>NaN</td>\n",
       "      <td>NaN</td>\n",
       "      <td>1.200000</td>\n",
       "      <td>NaN</td>\n",
       "      <td>NaN</td>\n",
       "      <td>NaN</td>\n",
       "      <td>NaN</td>\n",
       "      <td>NaN</td>\n",
       "    </tr>\n",
       "    <tr>\n",
       "      <th>25%</th>\n",
       "      <td>NaN</td>\n",
       "      <td>2006.000000</td>\n",
       "      <td>NaN</td>\n",
       "      <td>NaN</td>\n",
       "      <td>NaN</td>\n",
       "      <td>5.300000</td>\n",
       "      <td>NaN</td>\n",
       "      <td>NaN</td>\n",
       "      <td>NaN</td>\n",
       "      <td>NaN</td>\n",
       "      <td>NaN</td>\n",
       "    </tr>\n",
       "    <tr>\n",
       "      <th>50%</th>\n",
       "      <td>NaN</td>\n",
       "      <td>2011.000000</td>\n",
       "      <td>NaN</td>\n",
       "      <td>NaN</td>\n",
       "      <td>NaN</td>\n",
       "      <td>6.400000</td>\n",
       "      <td>NaN</td>\n",
       "      <td>NaN</td>\n",
       "      <td>NaN</td>\n",
       "      <td>NaN</td>\n",
       "      <td>NaN</td>\n",
       "    </tr>\n",
       "    <tr>\n",
       "      <th>75%</th>\n",
       "      <td>NaN</td>\n",
       "      <td>2016.000000</td>\n",
       "      <td>NaN</td>\n",
       "      <td>NaN</td>\n",
       "      <td>NaN</td>\n",
       "      <td>7.100000</td>\n",
       "      <td>NaN</td>\n",
       "      <td>NaN</td>\n",
       "      <td>NaN</td>\n",
       "      <td>NaN</td>\n",
       "      <td>NaN</td>\n",
       "    </tr>\n",
       "    <tr>\n",
       "      <th>max</th>\n",
       "      <td>NaN</td>\n",
       "      <td>2020.000000</td>\n",
       "      <td>NaN</td>\n",
       "      <td>NaN</td>\n",
       "      <td>NaN</td>\n",
       "      <td>9.400000</td>\n",
       "      <td>NaN</td>\n",
       "      <td>NaN</td>\n",
       "      <td>NaN</td>\n",
       "      <td>NaN</td>\n",
       "      <td>NaN</td>\n",
       "    </tr>\n",
       "  </tbody>\n",
       "</table>\n",
       "</div>"
      ],
      "text/plain": [
       "         title         year  \\\n",
       "count     1272  1272.000000   \n",
       "unique    1262          NaN   \n",
       "top     Jomblo          NaN   \n",
       "freq         2          NaN   \n",
       "mean       NaN  2007.023585   \n",
       "std        NaN    12.968560   \n",
       "min        NaN  1926.000000   \n",
       "25%        NaN  2006.000000   \n",
       "50%        NaN  2011.000000   \n",
       "75%        NaN  2016.000000   \n",
       "max        NaN  2020.000000   \n",
       "\n",
       "                                              description  genre rating  \\\n",
       "count                                                 840   1236    376   \n",
       "unique                                                840     15     11   \n",
       "top     Ayudia (Mawar De Jongh) is not satisfied enoug...  Drama    13+   \n",
       "freq                                                    1    456    161   \n",
       "mean                                                  NaN    NaN    NaN   \n",
       "std                                                   NaN    NaN    NaN   \n",
       "min                                                   NaN    NaN    NaN   \n",
       "25%                                                   NaN    NaN    NaN   \n",
       "50%                                                   NaN    NaN    NaN   \n",
       "75%                                                   NaN    NaN    NaN   \n",
       "max                                                   NaN    NaN    NaN   \n",
       "\n",
       "        users_rating votes   languages         directors  \\\n",
       "count    1272.000000  1272        1272              1265   \n",
       "unique           NaN   312           8               377   \n",
       "top              NaN     6  Indonesian  Nayato Fio Nuala   \n",
       "freq             NaN    58        1241                61   \n",
       "mean        6.144418   NaN         NaN               NaN   \n",
       "std         1.389315   NaN         NaN               NaN   \n",
       "min         1.200000   NaN         NaN               NaN   \n",
       "25%         5.300000   NaN         NaN               NaN   \n",
       "50%         6.400000   NaN         NaN               NaN   \n",
       "75%         7.100000   NaN         NaN               NaN   \n",
       "max         9.400000   NaN         NaN               NaN   \n",
       "\n",
       "                                                   actors runtime  \n",
       "count                                                1272     869  \n",
       "unique                                               1266      85  \n",
       "top     [nan, nan, nan, nan, nan, nan, nan, nan, nan, ...  90 min  \n",
       "freq                                                    4     109  \n",
       "mean                                                  NaN     NaN  \n",
       "std                                                   NaN     NaN  \n",
       "min                                                   NaN     NaN  \n",
       "25%                                                   NaN     NaN  \n",
       "50%                                                   NaN     NaN  \n",
       "75%                                                   NaN     NaN  \n",
       "max                                                   NaN     NaN  "
      ]
     },
     "execution_count": 5,
     "metadata": {},
     "output_type": "execute_result"
    }
   ],
   "source": [
    "df.describe(include=\"all\")"
   ]
  },
  {
   "cell_type": "markdown",
   "id": "ffb9db21-707a-4a67-b5d9-899bab374b15",
   "metadata": {},
   "source": [
    "- Melihat genre film apa saja yang ada pada dataset ini."
   ]
  },
  {
   "cell_type": "code",
   "execution_count": 6,
   "id": "30f69d9d-2ed5-469b-b6e8-d7d549d9a1f9",
   "metadata": {},
   "outputs": [
    {
     "name": "stdout",
     "output_type": "stream",
     "text": [
      "15 unique genres:\n",
      "['Biography' 'Thriller' 'Horror' 'Adventure' 'Drama' 'Comedy' 'Animation'\n",
      " 'Action' 'History' 'Crime' 'Romance' 'Sci-Fi' 'Family' nan 'War'\n",
      " 'Fantasy']\n"
     ]
    },
    {
     "data": {
      "text/plain": [
       "True     1236\n",
       "False      36\n",
       "Name: genre, dtype: int64"
      ]
     },
     "execution_count": 6,
     "metadata": {},
     "output_type": "execute_result"
    }
   ],
   "source": [
    "print(df['genre'].nunique(), 'unique genres:')\n",
    "print(df['genre'].unique())\n",
    "\n",
    "# NaN genre\n",
    "df['genre'].notna().value_counts()"
   ]
  },
  {
   "cell_type": "markdown",
   "id": "fe14cd1b-4d5c-4d22-8fa5-1b819e5de275",
   "metadata": {},
   "source": [
    "- Melihat beberapa jenis penilaian atau rating pada dataset ini."
   ]
  },
  {
   "cell_type": "code",
   "execution_count": 7,
   "id": "14992c53-381b-4886-81ea-df6f89db239b",
   "metadata": {
    "tags": []
   },
   "outputs": [
    {
     "name": "stdout",
     "output_type": "stream",
     "text": [
      "11 unique ratings\n",
      "['13+' '17+' nan 'SU' 'TV-14' '21+' 'TV-MA' 'Not Rated' 'R' 'D' 'PG-13'\n",
      " 'Unrated']\n"
     ]
    },
    {
     "data": {
      "text/plain": [
       "False    896\n",
       "True     376\n",
       "Name: rating, dtype: int64"
      ]
     },
     "execution_count": 7,
     "metadata": {},
     "output_type": "execute_result"
    }
   ],
   "source": [
    "print(df['rating'].nunique(), 'unique ratings')\n",
    "print(df['rating'].unique())\n",
    "\n",
    "# NaN rating\n",
    "df['rating'].notna().value_counts()"
   ]
  },
  {
   "cell_type": "markdown",
   "id": "f59ba025-0b26-4fde-8fa6-197fcdf17acb",
   "metadata": {},
   "source": [
    "- Cleaning Data"
   ]
  },
  {
   "cell_type": "code",
   "execution_count": 8,
   "id": "f0ea4a8a-24c2-4a03-8691-c6df64d04e8c",
   "metadata": {
    "tags": []
   },
   "outputs": [],
   "source": [
    "df = df.dropna(subset=['genre', 'directors'])\n",
    "df = df.reset_index(drop=True)"
   ]
  },
  {
   "cell_type": "markdown",
   "id": "a148b995-b77a-4b57-85c5-0a418a178494",
   "metadata": {
    "tags": []
   },
   "source": [
    "Menyederhanakan kategori peringkat:\n",
    "\n",
    "- 'SU' (Semua Usia)\n",
    "- '13+' = 'R' = 'PG-13' = 'TV-14'\n",
    "- '17+' = 'TV-MA' = 'D' = '21+'\n",
    "- 'Not Rated' = 'Unrated'\n",
    "\n",
    "Kami juga akan mengisi nilai nol dengan \"Not Rated\""
   ]
  },
  {
   "cell_type": "code",
   "execution_count": 9,
   "id": "53900171-4dec-4cfc-ae8d-7f4d7e865f0d",
   "metadata": {},
   "outputs": [],
   "source": [
    "df['rating'] = df['rating'].fillna(\"Unrated\")\n",
    "df['rating'] = df['rating'].replace({\n",
    "    \"Not Rated\": \"Unrated\",\n",
    "    \"R\": \"13+\",\n",
    "    \"PG-13\": \"13+\",\n",
    "    \"TV-14\": \"13+\",\n",
    "    \"TV-MA\": \"17+\",\n",
    "    \"D\": \"17+\",\n",
    "    \"21+\": \"17+\"\n",
    "})"
   ]
  },
  {
   "cell_type": "code",
   "execution_count": 10,
   "id": "b4d4a406-908b-41e0-83db-a9027ebcbcb9",
   "metadata": {},
   "outputs": [],
   "source": [
    "df[\"votes\"] = df[\"votes\"].apply(lambda x: x.replace(\",\", \"\"))\n",
    "df[\"votes\"] = df[\"votes\"].astype(int)"
   ]
  },
  {
   "cell_type": "markdown",
   "id": "2dd470c2-ecea-4d7e-ade8-009e02670439",
   "metadata": {},
   "source": [
    "- Menghitung jumlah film berdasarkan durasi"
   ]
  },
  {
   "cell_type": "code",
   "execution_count": 11,
   "id": "ed766d95-20ea-4f99-8524-a5e28a9bc02c",
   "metadata": {},
   "outputs": [
    {
     "data": {
      "text/plain": [
       "90 min     108\n",
       "100 min     43\n",
       "95 min      33\n",
       "94 min      24\n",
       "97 min      24\n",
       "          ... \n",
       "55 min       1\n",
       "136 min      1\n",
       "151 min      1\n",
       "181 min      1\n",
       "152 min      1\n",
       "Name: runtime, Length: 85, dtype: int64"
      ]
     },
     "execution_count": 11,
     "metadata": {},
     "output_type": "execute_result"
    }
   ],
   "source": [
    "df[\"runtime\"].value_counts()"
   ]
  },
  {
   "cell_type": "code",
   "execution_count": 12,
   "id": "0a7a48bb-08f8-4682-9fca-04bc4c84d398",
   "metadata": {},
   "outputs": [],
   "source": [
    "df[\"runtime\"] = df[\"runtime\"].fillna(\"90\")\n",
    "df[\"runtime\"] = df[\"runtime\"].apply(lambda x: x.replace(\" min\", \"\"))\n",
    "df[\"runtime\"] = df[\"runtime\"].astype(int)"
   ]
  },
  {
   "cell_type": "markdown",
   "id": "84026595-c29d-43af-923b-f9cd8c623afe",
   "metadata": {},
   "source": [
    "- Exploring Data"
   ]
  },
  {
   "cell_type": "markdown",
   "id": "b5e94a52-ad51-40fd-872c-21da00a009bc",
   "metadata": {},
   "source": [
    "- Menghitung jumlah film dengan menampilkan diagram plot berdasarkan tahun terbit"
   ]
  },
  {
   "cell_type": "code",
   "execution_count": 13,
   "id": "8f5160d5-f8af-451f-9497-8a71963ec8a7",
   "metadata": {},
   "outputs": [
    {
     "data": {
      "image/png": "[encoded data removed]",
      "text/plain": [
       "<Figure size 576x288 with 1 Axes>"
      ]
     },
     "metadata": {},
     "output_type": "display_data"
    }
   ],
   "source": [
    "f, ax = plt.subplots(figsize=(8, 4))\n",
    "sns.countplot(x=\"year\", data=df)\n",
    "# x-tick interval\n",
    "for label in ax.get_xticklabels():\n",
    "    if np.int(label.get_text()) % 10 == 0:  \n",
    "        label.set_visible(True)\n",
    "    else:\n",
    "        label.set_visible(False)"
   ]
  },
  {
   "cell_type": "markdown",
   "id": "3600b754-34ef-4133-8e9e-de9994228e7a",
   "metadata": {},
   "source": [
    "- Menampilkan 5 film terlama"
   ]
  },
  {
   "cell_type": "code",
   "execution_count": 14,
   "id": "3fa43162-896b-435c-b1cc-172ebf0fdaeb",
   "metadata": {},
   "outputs": [
    {
     "data": {
      "text/html": [
       "<div>\n",
       "<style scoped>\n",
       "    .dataframe tbody tr th:only-of-type {\n",
       "        vertical-align: middle;\n",
       "    }\n",
       "\n",
       "    .dataframe tbody tr th {\n",
       "        vertical-align: top;\n",
       "    }\n",
       "\n",
       "    .dataframe thead th {\n",
       "        text-align: right;\n",
       "    }\n",
       "</style>\n",
       "<table border=\"1\" class=\"dataframe\">\n",
       "  <thead>\n",
       "    <tr style=\"text-align: right;\">\n",
       "      <th></th>\n",
       "      <th>title</th>\n",
       "      <th>year</th>\n",
       "      <th>description</th>\n",
       "      <th>genre</th>\n",
       "      <th>rating</th>\n",
       "      <th>users_rating</th>\n",
       "      <th>votes</th>\n",
       "      <th>languages</th>\n",
       "      <th>directors</th>\n",
       "      <th>actors</th>\n",
       "      <th>runtime</th>\n",
       "    </tr>\n",
       "  </thead>\n",
       "  <tbody>\n",
       "    <tr>\n",
       "      <th>1228</th>\n",
       "      <td>Loetoeng Kasaroeng</td>\n",
       "      <td>1926</td>\n",
       "      <td>NaN</td>\n",
       "      <td>Fantasy</td>\n",
       "      <td>Unrated</td>\n",
       "      <td>7.2</td>\n",
       "      <td>11</td>\n",
       "      <td>Indonesian</td>\n",
       "      <td>L. Heuveldorp</td>\n",
       "      <td>['Martoana', 'Oemar', nan, nan, nan, nan, nan,...</td>\n",
       "      <td>60</td>\n",
       "    </tr>\n",
       "    <tr>\n",
       "      <th>1227</th>\n",
       "      <td>Darah dan Doa</td>\n",
       "      <td>1950</td>\n",
       "      <td>It tells the story of an Indonesian revolution...</td>\n",
       "      <td>Drama</td>\n",
       "      <td>Unrated</td>\n",
       "      <td>6.6</td>\n",
       "      <td>27</td>\n",
       "      <td>Indonesian</td>\n",
       "      <td>Usmar Ismail</td>\n",
       "      <td>['Ella Bergen', 'Faridah', 'R.D. Ismail', 'Del...</td>\n",
       "      <td>150</td>\n",
       "    </tr>\n",
       "    <tr>\n",
       "      <th>1226</th>\n",
       "      <td>Enam Djam di Djogja</td>\n",
       "      <td>1951</td>\n",
       "      <td>Depicting the celebrated recapture of the town...</td>\n",
       "      <td>Drama</td>\n",
       "      <td>Unrated</td>\n",
       "      <td>6.3</td>\n",
       "      <td>9</td>\n",
       "      <td>Indonesian</td>\n",
       "      <td>Usmar Ismail</td>\n",
       "      <td>['R.D. Ismail', 'Del Juzar', 'Aedy Moward', 'A...</td>\n",
       "      <td>116</td>\n",
       "    </tr>\n",
       "    <tr>\n",
       "      <th>1225</th>\n",
       "      <td>The Tiger from Tjampa</td>\n",
       "      <td>1953</td>\n",
       "      <td>Set in the 1930s, and narrated like a ballad f...</td>\n",
       "      <td>Drama</td>\n",
       "      <td>Unrated</td>\n",
       "      <td>6.4</td>\n",
       "      <td>30</td>\n",
       "      <td>Indonesian</td>\n",
       "      <td>D. Djajakusuma</td>\n",
       "      <td>['Wahid Chan', 'Bambang Hermanto', 'R.D. Ismai...</td>\n",
       "      <td>97</td>\n",
       "    </tr>\n",
       "    <tr>\n",
       "      <th>1224</th>\n",
       "      <td>Lewat Djam Malam</td>\n",
       "      <td>1954</td>\n",
       "      <td>A hero of revolution returns to civilian life ...</td>\n",
       "      <td>Drama</td>\n",
       "      <td>Unrated</td>\n",
       "      <td>7.5</td>\n",
       "      <td>94</td>\n",
       "      <td>Indonesian</td>\n",
       "      <td>Usmar Ismail</td>\n",
       "      <td>['A.N. Alcaff', 'Dhalia', 'Netty Herawati', 'B...</td>\n",
       "      <td>101</td>\n",
       "    </tr>\n",
       "  </tbody>\n",
       "</table>\n",
       "</div>"
      ],
      "text/plain": [
       "                      title  year  \\\n",
       "1228     Loetoeng Kasaroeng  1926   \n",
       "1227          Darah dan Doa  1950   \n",
       "1226    Enam Djam di Djogja  1951   \n",
       "1225  The Tiger from Tjampa  1953   \n",
       "1224       Lewat Djam Malam  1954   \n",
       "\n",
       "                                            description    genre   rating  \\\n",
       "1228                                                NaN  Fantasy  Unrated   \n",
       "1227  It tells the story of an Indonesian revolution...    Drama  Unrated   \n",
       "1226  Depicting the celebrated recapture of the town...    Drama  Unrated   \n",
       "1225  Set in the 1930s, and narrated like a ballad f...    Drama  Unrated   \n",
       "1224  A hero of revolution returns to civilian life ...    Drama  Unrated   \n",
       "\n",
       "      users_rating  votes   languages       directors  \\\n",
       "1228           7.2     11  Indonesian   L. Heuveldorp   \n",
       "1227           6.6     27  Indonesian    Usmar Ismail   \n",
       "1226           6.3      9  Indonesian    Usmar Ismail   \n",
       "1225           6.4     30  Indonesian  D. Djajakusuma   \n",
       "1224           7.5     94  Indonesian    Usmar Ismail   \n",
       "\n",
       "                                                 actors  runtime  \n",
       "1228  ['Martoana', 'Oemar', nan, nan, nan, nan, nan,...       60  \n",
       "1227  ['Ella Bergen', 'Faridah', 'R.D. Ismail', 'Del...      150  \n",
       "1226  ['R.D. Ismail', 'Del Juzar', 'Aedy Moward', 'A...      116  \n",
       "1225  ['Wahid Chan', 'Bambang Hermanto', 'R.D. Ismai...       97  \n",
       "1224  ['A.N. Alcaff', 'Dhalia', 'Netty Herawati', 'B...      101  "
      ]
     },
     "execution_count": 14,
     "metadata": {},
     "output_type": "execute_result"
    }
   ],
   "source": [
    "df.sort_values(\"year\", ascending = True).head()"
   ]
  },
  {
   "cell_type": "markdown",
   "id": "f2fdb382-d9e3-4f5e-88a7-e222d35bdf38",
   "metadata": {},
   "source": [
    "- Menghitung jumlah film berdasarkan subtitle atau bahasa"
   ]
  },
  {
   "cell_type": "code",
   "execution_count": 15,
   "id": "b215c715-2954-4c38-82a3-79ae9d29ae90",
   "metadata": {},
   "outputs": [
    {
     "data": {
      "text/html": [
       "<div>\n",
       "<style scoped>\n",
       "    .dataframe tbody tr th:only-of-type {\n",
       "        vertical-align: middle;\n",
       "    }\n",
       "\n",
       "    .dataframe tbody tr th {\n",
       "        vertical-align: top;\n",
       "    }\n",
       "\n",
       "    .dataframe thead th {\n",
       "        text-align: right;\n",
       "    }\n",
       "</style>\n",
       "<table border=\"1\" class=\"dataframe\">\n",
       "  <thead>\n",
       "    <tr style=\"text-align: right;\">\n",
       "      <th></th>\n",
       "      <th>total movies</th>\n",
       "    </tr>\n",
       "  </thead>\n",
       "  <tbody>\n",
       "    <tr>\n",
       "      <th>Indonesian</th>\n",
       "      <td>1198</td>\n",
       "    </tr>\n",
       "    <tr>\n",
       "      <th>English</th>\n",
       "      <td>21</td>\n",
       "    </tr>\n",
       "    <tr>\n",
       "      <th>Japanese</th>\n",
       "      <td>3</td>\n",
       "    </tr>\n",
       "    <tr>\n",
       "      <th>Minangkabau</th>\n",
       "      <td>2</td>\n",
       "    </tr>\n",
       "    <tr>\n",
       "      <th>Dutch</th>\n",
       "      <td>2</td>\n",
       "    </tr>\n",
       "    <tr>\n",
       "      <th>French</th>\n",
       "      <td>1</td>\n",
       "    </tr>\n",
       "    <tr>\n",
       "      <th>Malay</th>\n",
       "      <td>1</td>\n",
       "    </tr>\n",
       "    <tr>\n",
       "      <th>Mandarin</th>\n",
       "      <td>1</td>\n",
       "    </tr>\n",
       "  </tbody>\n",
       "</table>\n",
       "</div>"
      ],
      "text/plain": [
       "             total movies\n",
       "Indonesian           1198\n",
       "English                21\n",
       "Japanese                3\n",
       "Minangkabau             2\n",
       "Dutch                   2\n",
       "French                  1\n",
       "Malay                   1\n",
       "Mandarin                1"
      ]
     },
     "execution_count": 15,
     "metadata": {},
     "output_type": "execute_result"
    }
   ],
   "source": [
    "df[\"languages\"].value_counts().to_frame().rename(columns={\"languages\": \"total movies\"})"
   ]
  },
  {
   "cell_type": "markdown",
   "id": "43bad2a4-f571-412e-b6a7-426a1757ef28",
   "metadata": {},
   "source": [
    "- Menghitung jumlah rating pada film berdasarkan kolom rating dan digambarkan pada plot bar"
   ]
  },
  {
   "cell_type": "code",
   "execution_count": 16,
   "id": "dab891d2-9f19-417e-bfca-96ee170557c0",
   "metadata": {},
   "outputs": [
    {
     "data": {
      "image/png": "[encoded data removed]",
      "text/plain": [
       "<Figure size 450x300 with 1 Axes>"
      ]
     },
     "metadata": {},
     "output_type": "display_data"
    }
   ],
   "source": [
    "plt.figure(num = None, dpi = 75)\n",
    "valueCounts = df[\"rating\"].value_counts()\n",
    "\n",
    "valueCounts.plot.bar(color='crimson')\n",
    "plt.ylabel('counts')\n",
    "plt.xticks(rotation=0)\n",
    "plt.show()"
   ]
  },
  {
   "cell_type": "markdown",
   "id": "245107b0-89dc-4076-a98a-6b042f4da688",
   "metadata": {},
   "source": [
    "- Menghitung jumlah film terbanyak berdasarkan genre"
   ]
  },
  {
   "cell_type": "code",
   "execution_count": 17,
   "id": "67fa9484-00ca-483f-b66e-3914fd83c483",
   "metadata": {},
   "outputs": [
    {
     "data": {
      "text/html": [
       "<div>\n",
       "<style scoped>\n",
       "    .dataframe tbody tr th:only-of-type {\n",
       "        vertical-align: middle;\n",
       "    }\n",
       "\n",
       "    .dataframe tbody tr th {\n",
       "        vertical-align: top;\n",
       "    }\n",
       "\n",
       "    .dataframe thead th {\n",
       "        text-align: right;\n",
       "    }\n",
       "</style>\n",
       "<table border=\"1\" class=\"dataframe\">\n",
       "  <thead>\n",
       "    <tr style=\"text-align: right;\">\n",
       "      <th></th>\n",
       "      <th>total movies</th>\n",
       "    </tr>\n",
       "  </thead>\n",
       "  <tbody>\n",
       "    <tr>\n",
       "      <th>Drama</th>\n",
       "      <td>454</td>\n",
       "    </tr>\n",
       "    <tr>\n",
       "      <th>Comedy</th>\n",
       "      <td>287</td>\n",
       "    </tr>\n",
       "    <tr>\n",
       "      <th>Horror</th>\n",
       "      <td>229</td>\n",
       "    </tr>\n",
       "    <tr>\n",
       "      <th>Action</th>\n",
       "      <td>132</td>\n",
       "    </tr>\n",
       "    <tr>\n",
       "      <th>Adventure</th>\n",
       "      <td>47</td>\n",
       "    </tr>\n",
       "    <tr>\n",
       "      <th>Biography</th>\n",
       "      <td>27</td>\n",
       "    </tr>\n",
       "    <tr>\n",
       "      <th>Thriller</th>\n",
       "      <td>12</td>\n",
       "    </tr>\n",
       "    <tr>\n",
       "      <th>Romance</th>\n",
       "      <td>11</td>\n",
       "    </tr>\n",
       "    <tr>\n",
       "      <th>Fantasy</th>\n",
       "      <td>10</td>\n",
       "    </tr>\n",
       "    <tr>\n",
       "      <th>Crime</th>\n",
       "      <td>9</td>\n",
       "    </tr>\n",
       "    <tr>\n",
       "      <th>Animation</th>\n",
       "      <td>4</td>\n",
       "    </tr>\n",
       "    <tr>\n",
       "      <th>Sci-Fi</th>\n",
       "      <td>2</td>\n",
       "    </tr>\n",
       "    <tr>\n",
       "      <th>Family</th>\n",
       "      <td>2</td>\n",
       "    </tr>\n",
       "    <tr>\n",
       "      <th>War</th>\n",
       "      <td>2</td>\n",
       "    </tr>\n",
       "    <tr>\n",
       "      <th>History</th>\n",
       "      <td>1</td>\n",
       "    </tr>\n",
       "  </tbody>\n",
       "</table>\n",
       "</div>"
      ],
      "text/plain": [
       "           total movies\n",
       "Drama               454\n",
       "Comedy              287\n",
       "Horror              229\n",
       "Action              132\n",
       "Adventure            47\n",
       "Biography            27\n",
       "Thriller             12\n",
       "Romance              11\n",
       "Fantasy              10\n",
       "Crime                 9\n",
       "Animation             4\n",
       "Sci-Fi                2\n",
       "Family                2\n",
       "War                   2\n",
       "History               1"
      ]
     },
     "execution_count": 17,
     "metadata": {},
     "output_type": "execute_result"
    }
   ],
   "source": [
    "df[\"genre\"].value_counts().to_frame().rename(columns={\"genre\": \"total movies\"})"
   ]
  },
  {
   "cell_type": "markdown",
   "id": "29441b7e-9723-46f8-9f11-22ca7acc57f3",
   "metadata": {},
   "source": [
    "- Menampilkan film dengan rating terbaik disetiap genre"
   ]
  },
  {
   "cell_type": "code",
   "execution_count": 18,
   "id": "90490ac8-5b6e-414c-87ea-0393ca48d33a",
   "metadata": {},
   "outputs": [
    {
     "name": "stdout",
     "output_type": "stream",
     "text": [
      "The #1 movie in the genre Biography is => Wage\n",
      "The #1 movie in the genre Thriller is => Fiksi.\n",
      "The #1 movie in the genre Horror is => Malam Jumat Kliwon\n",
      "The #1 movie in the genre Adventure is => Anak Garuda\n",
      "The #1 movie in the genre Drama is => Salisiah Adaik\n",
      "The #1 movie in the genre Comedy is => Horas Amang: Tiga Bulan Untuk Selamanya\n",
      "The #1 movie in the genre Animation is => November 10th\n",
      "The #1 movie in the genre Action is => Merah Putih Memanggil\n",
      "The #1 movie in the genre History is => Moonrise Over Egypt\n",
      "The #1 movie in the genre Crime is => Leaf on a Pillow\n",
      "The #1 movie in the genre Romance is => Turis Romantis\n",
      "The #1 movie in the genre Sci-Fi is => Kurung Manuk (Bird Cage)\n",
      "The #1 movie in the genre Family is => Lima Elang\n",
      "The #1 movie in the genre War is => Tropic of Emerald\n",
      "The #1 movie in the genre Fantasy is => Loetoeng Kasaroeng\n"
     ]
    }
   ],
   "source": [
    "for genre in df[\"genre\"].unique():\n",
    "    data = df[df[\"genre\"] == genre]\n",
    "    print(\"The #1 movie in the genre\", genre, \"is =>\", data.sort_values(\"users_rating\", ascending = False).head(1)[\"title\"].values[0])"
   ]
  },
  {
   "cell_type": "code",
   "execution_count": 19,
   "id": "e4896a54-d2e0-4ea5-9fbe-4f12b05038ad",
   "metadata": {},
   "outputs": [
    {
     "data": {
      "image/png": "[encoded data removed]",
      "text/plain": [
       "<Figure size 648x432 with 1 Axes>"
      ]
     },
     "metadata": {},
     "output_type": "display_data"
    }
   ],
   "source": [
    "import random\n",
    "from wordcloud import WordCloud\n",
    "text = (str(df[\"description\"].dropna()))\n",
    "plt.subplots(figsize=(9,6))\n",
    "wordcloud = WordCloud(background_color=\"white\").generate(text)\n",
    "plt.imshow(wordcloud, interpolation=\"bilinear\")\n",
    "plt.title(\"Film description wordcloud\")\n",
    "plt.axis(\"off\")\n",
    "plt.show()"
   ]
  },
  {
   "cell_type": "markdown",
   "id": "fb835d0e-b89e-4017-a140-b8c31921b4f6",
   "metadata": {},
   "source": [
    "- Method corr() menemukan korelasi setiap kolom dalam DataFrame."
   ]
  },
  {
   "cell_type": "code",
   "execution_count": 20,
   "id": "2bcfba2f-3e80-46e6-a26e-70c851d0c5d4",
   "metadata": {},
   "outputs": [
    {
     "data": {
      "text/html": [
       "<div>\n",
       "<style scoped>\n",
       "    .dataframe tbody tr th:only-of-type {\n",
       "        vertical-align: middle;\n",
       "    }\n",
       "\n",
       "    .dataframe tbody tr th {\n",
       "        vertical-align: top;\n",
       "    }\n",
       "\n",
       "    .dataframe thead th {\n",
       "        text-align: right;\n",
       "    }\n",
       "</style>\n",
       "<table border=\"1\" class=\"dataframe\">\n",
       "  <thead>\n",
       "    <tr style=\"text-align: right;\">\n",
       "      <th></th>\n",
       "      <th>year</th>\n",
       "      <th>users_rating</th>\n",
       "      <th>votes</th>\n",
       "      <th>runtime</th>\n",
       "    </tr>\n",
       "  </thead>\n",
       "  <tbody>\n",
       "    <tr>\n",
       "      <th>year</th>\n",
       "      <td>1.000000</td>\n",
       "      <td>-0.005238</td>\n",
       "      <td>0.030013</td>\n",
       "      <td>0.042812</td>\n",
       "    </tr>\n",
       "    <tr>\n",
       "      <th>users_rating</th>\n",
       "      <td>-0.005238</td>\n",
       "      <td>1.000000</td>\n",
       "      <td>0.049259</td>\n",
       "      <td>0.263224</td>\n",
       "    </tr>\n",
       "    <tr>\n",
       "      <th>votes</th>\n",
       "      <td>0.030013</td>\n",
       "      <td>0.049259</td>\n",
       "      <td>1.000000</td>\n",
       "      <td>0.098434</td>\n",
       "    </tr>\n",
       "    <tr>\n",
       "      <th>runtime</th>\n",
       "      <td>0.042812</td>\n",
       "      <td>0.263224</td>\n",
       "      <td>0.098434</td>\n",
       "      <td>1.000000</td>\n",
       "    </tr>\n",
       "  </tbody>\n",
       "</table>\n",
       "</div>"
      ],
      "text/plain": [
       "                  year  users_rating     votes   runtime\n",
       "year          1.000000     -0.005238  0.030013  0.042812\n",
       "users_rating -0.005238      1.000000  0.049259  0.263224\n",
       "votes         0.030013      0.049259  1.000000  0.098434\n",
       "runtime       0.042812      0.263224  0.098434  1.000000"
      ]
     },
     "execution_count": 20,
     "metadata": {},
     "output_type": "execute_result"
    }
   ],
   "source": [
    "# Misc\n",
    "df.corr()"
   ]
  },
  {
   "cell_type": "code",
   "execution_count": 21,
   "id": "0ddc5e68-33b8-4a96-8979-a8e1012c5439",
   "metadata": {},
   "outputs": [
    {
     "data": {
      "text/plain": [
       "<AxesSubplot:>"
      ]
     },
     "execution_count": 21,
     "metadata": {},
     "output_type": "execute_result"
    },
    {
     "data": {
      "image/png": "[encoded data removed]",
      "text/plain": [
       "<Figure size 432x288 with 2 Axes>"
      ]
     },
     "metadata": {},
     "output_type": "display_data"
    }
   ],
   "source": [
    "sns.heatmap(df.corr())"
   ]
  },
  {
   "cell_type": "markdown",
   "id": "b97a9e2f-589f-4bb9-84d4-ff85378dba57",
   "metadata": {},
   "source": [
    "Hampir semua variabel memiliki korelasi yang sangat rendah satu sama lain. Tampaknya hanya runtime dan user_rating yang memiliki korelasi (lemah) satu sama lain"
   ]
  }
 ],
 "metadata": {
  "kernelspec": {
   "display_name": "Python 3 (ipykernel)",
   "language": "python",
   "name": "python3"
  },
  "language_info": {
   "codemirror_mode": {
    "name": "ipython",
    "version": 3
   },
   "file_extension": ".py",
   "mimetype": "text/x-python",
   "name": "python",
   "nbconvert_exporter": "python",
   "pygments_lexer": "ipython3",
   "version": "3.9.12"
  }
 },
 "nbformat": 4,
 "nbformat_minor": 5
}
